{
 "cells": [
  {
   "cell_type": "markdown",
   "metadata": {
    "slideshow": {
     "slide_type": "slide"
    }
   },
   "source": [
    "### Computer Programming\n",
    "\n",
    "### Final Assignment, MT 2022\n",
    "\n"
   ]
  },
  {
   "cell_type": "markdown",
   "metadata": {
    "slideshow": {
     "slide_type": "slide"
    }
   },
   "source": [
    "---\n",
    "## The homophily and social contagion of cheating\n",
    "\n",
    "This exercise leverages computational thinking and programming skills learned in the course to answer an empirical social science question. It applies the best practices and theoretical concepts covered in the course to produce a program that not only returns the correct output but is also legible, modular, and reasonably optimized. The assignment assumes mastery of loops, conditionals, and functions, as well as awareness of issues related to runtime performance.\n",
    "\n",
    "The project studies the homophily and social contagion of cheating in the massive multiplayer online game PlayerUnknown's Battlegrounds (PUBG). Cheating in this context means the adoption of unapproved software that gives the player an unfair advantage in the game (e.g. being able to see through walls). \n",
    "\n",
    "The hypotheses are that cheaters tend to associate with other cheaters but also, players who interact with cheaters become likely to adopt cheating themselves. To provide preliminary evidence for these hypotheses, it will:\n",
    "\n",
    "1. Observe whether cheaters tend to team up with other cheaters more than chance.\n",
    "2. Observe whether players who observe cheaters are likely to become cheaters more than chance.\n",
    "3. Observe whether players who are killed by cheaters are likely to become cheaters more than chance.\n",
    "\n",
    "To test the \"more than chance\" part, it will simulate alternative universes in which the players played the same game but joined a different team or happened to be killed by someone else at a different time. It will then compare how what we observe in the actual data compares to what we would expect in a \"randomized\" world.  \n",
    "\n",
    "**NOTE: The project is only allowed to use fundamental Python data types (lists, tuples, dictionaries, numpy.ndarray, etc.).**  \n",
    "\n",
    "#### Hints\n",
    "\n",
    "Although this assignment is quite streamlined, imagine that the tasks here are part of a larger project. How would you structure your program if in the future you may need to use a different dataset with similar structure, manipulate the data differently, add additional analyses, or modify the focus of the current analysis?  \n",
    "\n",
    "Keep different data manipulations in separate functions/methods and group related functions/classes in separate `.py` files. Name your modules in an informative way."
   ]
  },
  {
   "cell_type": "markdown",
   "metadata": {
    "slideshow": {
     "slide_type": "slide"
    }
   },
   "source": [
    "### Data\n",
    "\n",
    "Data can be found in the same repository [https://github.com/lse-my470/assignment-final-data.git](https://github.com/lse-my470/assignment-final-data.git).",
    "\n",
    "The data were collected by Jinny Kim (LSE MSc ASDS '19). The repository contains the following files:\n",
    "\n",
    "* `cheaters.txt` – contains cheaters who played between March 1 and March 10, 2019\n",
    "    1. player account id\n",
    "    2. estimated date when the player started cheating\n",
    "    3. date when the player's account was banned due to cheating\n",
    "\n",
    "\n",
    "* `kills.txt` – contains the killings done in 6,000 randomly selected matches played between March 1 and March 10, 2019\n",
    "    1. match id \n",
    "    2. account id of the killer\n",
    "    3. account id of the player who got killed\n",
    "    4. time when the kill happened\n",
    " \n",
    " \n",
    "* `team_ids.txt` – contains the team ids for players in 5,419 team-play matches in the same period. If a match from the kills.txt file does not appear in these data, we will assume that it was in single-player mode.  \n",
    "    1. match id \n",
    "    2. player account id\n",
    "    3. team id in match\n",
    "    \n",
    "\n",
    "### Output\n",
    "\n",
    "I compute actual counts and expected counts (mean with 95% confidence interval). To estimate the 95% confidence intervals, the small sample size and the fact that we are dealing with count data are ignored, simply using the approximation: 95% CI $= \\mu \\pm 1.96 \\frac{\\sigma}{\\sqrt{n}}$, where $\\mu$ is the mean and $\\sigma$ the standard deviation of the counts in the $n=20$ randomizations.\n",
    "\n",
    "\n"
   ]
  },
  {
   "cell_type": "markdown",
   "metadata": {},
   "source": [
    "## Code is imported and run here\n",
    "\n",
    "Code is kept in separate `.py` files and then imported in the code cell below. In the subsequent cells, the functions/methods needed to conduct the analyses are called. "
   ]
  },
  {
   "cell_type": "code",
   "execution_count": 1,
   "metadata": {},
   "outputs": [],
   "source": [
    "# Imported modules here\n",
    "\n",
    "from reading_files import *\n",
    "\n",
    "from cheaters_teaming_up import *\n",
    "from cheaters_interactions import *\n",
    "\n",
    "from team_randomization import *\n",
    "from kills_randomization import *\n",
    "\n",
    "from simulations_cheating import *"
   ]
  },
  {
   "cell_type": "markdown",
   "metadata": {},
   "source": [
    "### 1. Do cheaters team up?\n",
    "\n",
    "Using the files `cheaters.txt` and `team_ids.txt` to estimate how often cheaters (regardless of when exactly they started cheating) end up on the same team.\n",
    "\n",
    "Now, the team ids among the players in a match are randomly shuffled. This is repeated 20 times and then the expected counts are estimated as before. The output are the mean and the 95% confidence intervals for the expected counts. \n",
    "\n"
   ]
  },
  {
   "cell_type": "code",
   "execution_count": 2,
   "metadata": {},
   "outputs": [
    {
     "name": "stdout",
     "output_type": "stream",
     "text": [
      "The number of teams with zero cheaters is:  170782\n",
      "The number of teams with one cheater is:  3199\n",
      "The number of teams with two cheaters is:  182\n",
      "The number of teams with three cheaters is:  9\n",
      "The number of teams with four cheaters is:  2\n",
      "\n",
      "The mean and confidence interval for number of teams with zero cheaters is:  170610.7 | [170608.1 : 170613.3]\n",
      "The mean and confidence interval for number of teams with one cheater is:  3528.85 | [3523.6 : 3534.1]\n",
      "The mean and confidence interval for number of teams with two cheaters is:  34.2 | [31.5 : 36.9]\n",
      "The mean and confidence interval for number of teams with three cheaters is:  0.25 | [0.1 : 0.4]\n",
      "The mean and confidence interval for number of teams with four cheaters is:  0.0 | [0.0 : 0.0]\n",
      "\n",
      "By comparing the actual results observed in data with the values obtained through our simulation, we understand that the actual results clearly fall outside the estimated confidence intervals .\n",
      "\n",
      "Since these confidence intervals correspond to the values we would expect to observe in case team distribution was random among players, the data indicates some non-random effect is at play.\n",
      "\n",
      "Therefore, the data appears to confirm that cheating players do team up. The number of teams with only one cheater (3199) is well below the lower bound of the confidence interval (3526).Simultaneously, the number of teams with more than one cheater (in which cheaters \"teamed-up\") is above our expectations from the randomized simulations, for all the cases of 2, 3, or 4 cheaters.)\n"
     ]
    }
   ],
   "source": [
    "# Output answers here\n",
    "\n",
    "cheaters = get_cheaters()\n",
    "teams = get_teams()\n",
    "\n",
    "zero_cheaters, one_cheater, two_cheaters, three_cheaters, four_cheaters = get_cheater_counters(cheaters, teams)\n",
    "\n",
    "print('The number of teams with zero cheaters is: ', zero_cheaters)\n",
    "print('The number of teams with one cheater is: ', one_cheater)\n",
    "print('The number of teams with two cheaters is: ', two_cheaters)\n",
    "print('The number of teams with three cheaters is: ', three_cheaters)\n",
    "print('The number of teams with four cheaters is: ', four_cheaters)\n",
    "print()\n",
    "\n",
    "ci_zero_cheaters, mean_zero_cheaters, ci_one_cheater, mean_one_cheater, \\\n",
    "  ci_two_cheaters, mean_two_cheaters, ci_three_cheaters, mean_three_cheaters, \\\n",
    "    ci_four_cheaters, mean_four_cheaters = cheaters_teaming_up_simulation(20)\n",
    "\n",
    "print('The mean and confidence interval for number of teams with zero cheaters is: ', \\\n",
    "      mean_zero_cheaters, '|', ci_zero_cheaters)\n",
    "print('The mean and confidence interval for number of teams with one cheater is: ', \\\n",
    "      mean_one_cheater, '|', ci_one_cheater)\n",
    "print('The mean and confidence interval for number of teams with two cheaters is: ', \\\n",
    "      mean_two_cheaters, '|', ci_two_cheaters)\n",
    "print('The mean and confidence interval for number of teams with three cheaters is: ', \\\n",
    "      mean_three_cheaters, '|', ci_three_cheaters)\n",
    "print('The mean and confidence interval for number of teams with four cheaters is: ', \\\n",
    "      mean_four_cheaters, '|', ci_four_cheaters)\n",
    "print()\n",
    "\n",
    "print('By comparing the actual results observed in data with the values obtained through our simulation, ' \\\n",
    "      'we understand that the actual results clearly fall outside the estimated confidence intervals .')\n",
    "print()\n",
    "print('Since these confidence intervals correspond to the values we would expect to observe in case team ' \\\n",
    "      'distribution was random among players, the data indicates some non-random effect is at play.')\n",
    "print()\n",
    "print('Therefore, the data appears to confirm that cheating players do team up. The number of teams with ' \\\n",
    "      'only one cheater (3199) is well below the lower bound of the confidence interval (3526).' \\\n",
    "      'Simultaneously, the number of teams with more than one cheater (in which cheaters \"teamed-up\") is ' \\\n",
    "      'above our expectations from the randomized simulations, for all the cases of 2, 3, or 4 cheaters.)')"
   ]
  },
  {
   "cell_type": "markdown",
   "metadata": {},
   "source": [
    "### 2. Do victims of cheating start cheating?\n",
    "\n",
    "Using the files `cheaters.txt` and `kills.txt` to count how many players got killed by an active cheater on at least one occasion and then started cheating. Specifically, we are interested in situations where:\n",
    "\n",
    "1. Player B has started cheating but player A is not cheating.\n",
    "2. Player B kills player A.\n",
    "3. At some point afterwards, player A starts cheating.\n",
    "\n",
    "Then, we simulate alternative worlds in which everything is the same but the events took somewhat different sequences. To do so, I randomize within a game, keeping the timing and structure of interactions but shuffling the player ids. I generate 20 randomizations like this and estimate the expected count of victims of cheating who start cheating as before. The output are the mean and the 95% confidence interval for the expected count in these randomized worlds.\n",
    "\n"
   ]
  },
  {
   "cell_type": "code",
   "execution_count": 3,
   "metadata": {},
   "outputs": [
    {
     "name": "stdout",
     "output_type": "stream",
     "text": [
      "The total number of cases where a player started cheating after being killed by a cheating player is:  47\n",
      "\n",
      "The mean and confidence interval for \"victim cheaters\" is:  14.35 | [12.3 : 16.4]\n",
      "\n",
      "By comparing the actual results observed in data with the values obtained through our simulation, we understand that the actual results clearly fall outside the confidence interval estimated.\n",
      "\n",
      "Since the confidence interval corresponds to the values we would expect to observe in cheating behaviour was random among players (and independent of victimhood) the data indicates some non-random effect is at play.\n",
      "\n",
      "Therefore, the data appears to confirm a pattern in which cheating players were killed by cheating players before starting cheating. It suggests that being killed by a cheating player can lead a player to start cheating.\n"
     ]
    }
   ],
   "source": [
    "# Output answers here\n",
    "\n",
    "cheaters = get_cheaters()\n",
    "kills = get_kills()\n",
    "\n",
    "matches_start = match_starting_time(kills)\n",
    "nr_victim_cheaters = counter_victim_cheaters(kills, matches_start, cheaters)\n",
    "\n",
    "print(\"The total number of cases where a player started cheating after being killed by a cheating player is: \", \\\n",
    "      nr_victim_cheaters)\n",
    "print()\n",
    "\n",
    "ci_victim_cheaters, mean_victim_cheaters = victim_cheaters_simulation(20)\n",
    "\n",
    "print('The mean and confidence interval for \"victim cheaters\" is: ', \\\n",
    "      mean_victim_cheaters, '|', ci_victim_cheaters)\n",
    "print()\n",
    "\n",
    "print('By comparing the actual results observed in data with the values obtained through our simulation, ' \\\n",
    "      'we understand that the actual results clearly fall outside the confidence interval estimated.')\n",
    "print()\n",
    "print('Since the confidence interval corresponds to the values we would expect to observe in cheating behaviour ' \\\n",
    "      'was random among players (and independent of victimhood) the data indicates some non-random effect is at play.')\n",
    "print()\n",
    "print('Therefore, the data appears to confirm a pattern in which cheating players were killed by ' \\\n",
    "      'cheating players before starting cheating. It suggests that being killed by a cheating player ' \\\n",
    "      'can lead a player to start cheating.')"
   ]
  },
  {
   "cell_type": "markdown",
   "metadata": {},
   "source": [
    "### 3. Do observers of cheating start cheating?\n",
    "\n",
    "Using the files `cheaters.txt` and `kills.txt` to count how many players observed an active cheater on at least one occasion and then started cheating. Cheating players can be recognized because they exhibit abnormal killing patterns. We will assume that player A realizes that player B cheats if:\n",
    "\n",
    "1. Player B has started cheating but player A is not cheating.\n",
    "2. Player B kills at least 3 other players before player A gets killed in the game.\n",
    "3. At some point afterwards, player A starts cheating.\n",
    "\n",
    "Then, I use the 20 randomizations from Part 2 to estimate the expected count of observers of cheating who start cheating. I output the mean and the 95% confidence interval for the expected count in these randomized worlds.\n",
    "\n"
   ]
  },
  {
   "cell_type": "code",
   "execution_count": 4,
   "metadata": {},
   "outputs": [
    {
     "name": "stdout",
     "output_type": "stream",
     "text": [
      "The total number of cases where a player started cheating after observing a cheating player is:  260\n",
      "\n",
      "The mean and confidence interval for \"observer cheaters\" is:  155.3 | [150.0 : 160.6]\n",
      "\n",
      "By comparing the actual results observed in data with the values obtained through our simulation, we understand that the actual results clearly fall outside the confidence intervals estimated.\n",
      "\n",
      "Since these confidence intervals correspond to the values we would expect to observe in case team distribution was random among players, the data indicates some non-random effect is at play.\n",
      "\n",
      "Therefore, the data appears to confirm a pattern in which cheating players were killed by cheating players before starting cheating. It suggests that being killed by a cheating player can lead a player to start cheating. \n"
     ]
    }
   ],
   "source": [
    "# Output answers here\n",
    "\n",
    "cheaters = get_cheaters()\n",
    "kills = get_kills()\n",
    "\n",
    "nr_observer_cheaters = get_observer_cheaters(cheaters, kills)\n",
    "\n",
    "print(\"The total number of cases where a player started cheating after observing a cheating player is: \", \\\n",
    "      nr_observer_cheaters)\n",
    "print()\n",
    "\n",
    "\n",
    "ci_observer_cheaters, mean_observer_cheaters = observer_cheaters_simulation(20)\n",
    "\n",
    "print('The mean and confidence interval for \"observer cheaters\" is: ', \\\n",
    "      mean_observer_cheaters, '|', ci_observer_cheaters)\n",
    "print()\n",
    "\n",
    "print('By comparing the actual results observed in data with the values obtained through our simulation, ' \\\n",
    "      'we understand that the actual results clearly fall outside the confidence intervals estimated.')\n",
    "print()\n",
    "print('Since these confidence intervals correspond to the values we would expect to observe in case team ' \\\n",
    "      'distribution was random among players, the data indicates some non-random effect is at play.')\n",
    "print()\n",
    "print('Therefore, the data appears to confirm a pattern in which cheating players were killed by ' \\\n",
    "      'cheating players before starting cheating. It suggests that being killed by a cheating player ' \\\n",
    "      'can lead a player to start cheating. ')"
   ]
  },
  {
   "cell_type": "markdown",
   "metadata": {},
   "source": [
    "---\n",
    "\n",
    "### Evaluation\n",
    "\n",
    "| Aspect         | Mark     | Comment   \n",
    "|:--------------:|:--------:|:----------------------\n",
    "| Code runs      |   /20    |              \n",
    "| Output 1       |   /10    | \n",
    "| Output 2       |   /10    | \n",
    "| Output 3       |   /10    | \n",
    "| Legibility     |   /10    | \n",
    "| Modularity     |   /10    | \n",
    "| Optimization   |   /30    | \n",
    "| **Total**      |**/100**  | \n"
   ]
  }
 ],
 "metadata": {
  "kernelspec": {
   "display_name": "Python 3 (ipykernel)",
   "language": "python",
   "name": "python3"
  },
  "language_info": {
   "codemirror_mode": {
    "name": "ipython",
    "version": 3
   },
   "file_extension": ".py",
   "mimetype": "text/x-python",
   "name": "python",
   "nbconvert_exporter": "python",
   "pygments_lexer": "ipython3",
   "version": "3.9.12"
  }
 },
 "nbformat": 4,
 "nbformat_minor": 2
}
